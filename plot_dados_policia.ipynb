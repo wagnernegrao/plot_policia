{
 "cells": [
  {
   "cell_type": "code",
   "execution_count": null,
   "metadata": {},
   "outputs": [],
   "source": [
    "import os\n",
    "import pandas as pd\n",
    "import numpy as np\n",
    "import matplotlib.pyplot as plt"
   ]
  },
  {
   "cell_type": "code",
   "execution_count": null,
   "metadata": {},
   "outputs": [],
   "source": [
    "filename = '/home/wagnernegrao/Downloads/corona/corona/output/datasetCompleto.csv'"
   ]
  },
  {
   "cell_type": "code",
   "execution_count": null,
   "metadata": {},
   "outputs": [],
   "source": [
    "df = pd.read_csv(filename, sep=',')\n",
    "df['data'] = pd.to_datetime(df['data'])\n",
    "df = df.sort_values(['data', 'hora'], ascending=[False, True])\n",
    "df['hora'] = df.hora.apply(lambda hora: hora.replace(':', ''))\n",
    "df['hora'] = df['hora'].astype(int)"
   ]
  },
  {
   "cell_type": "code",
   "execution_count": null,
   "metadata": {},
   "outputs": [],
   "source": [
    "routes = df.rota.unique().tolist()"
   ]
  },
  {
   "cell_type": "code",
   "execution_count": null,
   "metadata": {},
   "outputs": [],
   "source": [
    "df = df.loc[df['data'].dt.month != 8] # dia 8 com erro\n",
    "df = df.loc[df['data'].dt.month != 12] # dia 12 com erro"
   ]
  },
  {
   "cell_type": "code",
   "execution_count": null,
   "metadata": {},
   "outputs": [],
   "source": []
  },
  {
   "cell_type": "code",
   "execution_count": null,
   "metadata": {},
   "outputs": [],
   "source": [
    "def difference(hours, time_difference):\n",
    "    difference = []\n",
    "    \n",
    "    for i in range(len(time_difference)):\n",
    "        difference.append((hours[i], time_difference[i]))\n",
    "    \n",
    "    return(difference)"
   ]
  },
  {
   "cell_type": "code",
   "execution_count": null,
   "metadata": {},
   "outputs": [],
   "source": [
    "def hours():\n",
    "    hours = []\n",
    "    \n",
    "    for hour in range(0, 24):\n",
    "        hours.append(hour)\n",
    "    \n",
    "    return(hours)"
   ]
  },
  {
   "cell_type": "code",
   "execution_count": null,
   "metadata": {},
   "outputs": [],
   "source": [
    "def time_increased(difference, flag=str):\n",
    "    time = []\n",
    "    hour = []\n",
    "    \n",
    "    for i in range(len(difference)):\n",
    "        if(difference[i][1] > 0):\n",
    "            time.append(difference[i][1])\n",
    "            hour.append(difference[i][0])\n",
    "            \n",
    "    if(flag == 'time'):\n",
    "        return(time)\n",
    "    elif(flag == 'hour'):\n",
    "        return(hour)"
   ]
  },
  {
   "cell_type": "code",
   "execution_count": null,
   "metadata": {},
   "outputs": [],
   "source": [
    "def time_decreased(difference, flag=str):\n",
    "    time = []\n",
    "    hour = []\n",
    "    \n",
    "    for i in range(len(difference)):\n",
    "        if(difference[i][1] < 0):\n",
    "            time.append(difference[i][1])\n",
    "            hour.append(difference[i][0])\n",
    "            \n",
    "    if(flag == 'time'):\n",
    "        return(time)\n",
    "    elif(flag == 'hour'):\n",
    "        return(hour)"
   ]
  },
  {
   "cell_type": "code",
   "execution_count": null,
   "metadata": {},
   "outputs": [],
   "source": [
    "def time_neutre(difference, flag=str):\n",
    "    time = []\n",
    "    hour = []\n",
    "\n",
    "    for i in range(len(difference)):\n",
    "        if(difference[i][1] == 0):\n",
    "            time.append(difference[i][1])\n",
    "            hour.append(difference[i][0])\n",
    "\n",
    "    if(flag == 'time'):\n",
    "        return(time)\n",
    "    elif(flag == 'hour'):\n",
    "        return(hour)"
   ]
  },
  {
   "cell_type": "code",
   "execution_count": null,
   "metadata": {},
   "outputs": [],
   "source": [
    "def average(time_difference):\n",
    "    avg = np.array(time_difference)\n",
    "    avg = round(np.mean(avg), 2) \n",
    "    return(avg)"
   ]
  },
  {
   "cell_type": "code",
   "execution_count": null,
   "metadata": {},
   "outputs": [],
   "source": [
    "def standard_deviation(time_difference):\n",
    "    std = np.array(time_difference)\n",
    "    std = round(np.std(std), 2)\n",
    "    return(std)"
   ]
  },
  {
   "cell_type": "code",
   "execution_count": null,
   "metadata": {},
   "outputs": [],
   "source": [
    "def images_path():\n",
    "    path = os.getcwd()\n",
    "    path = path + '/images/'\n",
    "    \n",
    "    return(path)"
   ]
  },
  {
   "cell_type": "code",
   "execution_count": null,
   "metadata": {},
   "outputs": [],
   "source": [
    "def plot_line (title, day1, day2, _difference, time_difference):\n",
    "\n",
    "    figure = plt.figure(figsize=(15,7))\n",
    "\n",
    "    plt.plot(hours(), time_difference, color='black')\n",
    "    plt.scatter(time_increased(_difference,'hour'), time_increased(_difference,'time'), color='red', label='Piora (x > 0)')\n",
    "    plt.scatter(time_decreased(_difference,'hour'), time_decreased(_difference,'time'), color='green',label='Melhora (x < 0)')\n",
    "    plt.scatter(time_neutre(_difference,'hour'), time_neutre(_difference,'time'), color='blue', label='Neutro (x = 0)')\n",
    "\n",
    "    plt.xlabel('Hora do Dia')\n",
    "    plt.ylabel(\"Diferença percentual do tempo de percurso\")\n",
    "    plt.title(f'{title} \\n ({day1} - {day2})')\n",
    "    \n",
    "    avg = average(time_difference)\n",
    "    std = standard_deviation(time_difference)\n",
    "    \n",
    "    plt.legend(title=f\"Status \\nMedia: {avg} \\nDesvio: {std}\", loc='best')\n",
    "    \n",
    "    plt.xticks(range(0,24))\n",
    "    plt.grid()\n",
    "\n",
    "    path = images_path()\n",
    "    filename = path + title + ' - ' + day1 + \".eps\"\n",
    "\n",
    "    figure.savefig(filename, bbox_inches='tight', format='eps', dpi=1000)\n",
    "\n",
    "    plt.show()"
   ]
  },
  {
   "cell_type": "code",
   "execution_count": null,
   "metadata": {},
   "outputs": [],
   "source": []
  },
  {
   "cell_type": "code",
   "execution_count": null,
   "metadata": {},
   "outputs": [],
   "source": [
    "for route in routes:\n",
    "    dfx = df.loc[df['rota'] == route]\n",
    "\n",
    "    number_days = len(dfx.loc[dfx['hora'] == 0]) # obtem o numero de dias \n",
    "\n",
    "    for day in range(number_days - 1):\n",
    "\n",
    "        time_difference = []\n",
    "\n",
    "        for _hour in range(0, 24):\n",
    "            df_ = dfx.loc[dfx['hora'] == _hour]\n",
    "\n",
    "            # Identifica erro na quantidade de dias\n",
    "            try:\n",
    "                time_difference.append(round((((df_.iloc[day].tempoSegundos - df_.iloc[day+1].tempoSegundos) / df_.iloc[day + 1].tempoSegundos) * 100), 5))\n",
    "            except:\n",
    "                print(f'Erro: Hora {_hour} do dia {df_.iloc[day].data}')\n",
    "\n",
    "        _difference = difference(hours(), time_difference)\n",
    "\n",
    "        day1 = str(df.iloc[day].data).replace(' 00:00:00', '')\n",
    "        day2 = str(df.iloc[day + 1].data).replace(' 00:00:00', '')\n",
    "        \n",
    "        plot_line(route, day1, day2, _difference, time_difference)"
   ]
  },
  {
   "cell_type": "code",
   "execution_count": null,
   "metadata": {},
   "outputs": [],
   "source": []
  },
  {
   "cell_type": "code",
   "execution_count": null,
   "metadata": {},
   "outputs": [],
   "source": []
  }
 ],
 "metadata": {
  "kernelspec": {
   "display_name": "Python 3",
   "language": "python",
   "name": "python3"
  },
  "language_info": {
   "codemirror_mode": {
    "name": "ipython",
    "version": 3
   },
   "file_extension": ".py",
   "mimetype": "text/x-python",
   "name": "python",
   "nbconvert_exporter": "python",
   "pygments_lexer": "ipython3",
   "version": "3.7.5"
  }
 },
 "nbformat": 4,
 "nbformat_minor": 4
}
